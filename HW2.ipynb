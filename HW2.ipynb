{
 "cells": [
  {
   "cell_type": "markdown",
   "id": "f53c03e0-c8c7-40bb-a814-c4de469821b7",
   "metadata": {},
   "source": [
    "# Question 1\n",
    "\n",
    "For this question use the World Bank Data for Turkey for the following indicators. Use [wbgapi](https://pypi.org/project/wbgapi/) for getting the data.\n",
    "\n",
    "* [Literacy rate, adult female (SE.ADT.LITR.FE.ZS)](https://data.worldbank.org/indicator/SE.ADT.LITR.FE.ZS)\n",
    "* [Labor force, female (SL.TLF.TOTL.FE.ZS)](https://data.worldbank.org/indicator/SL.TLF.TOTL.FE.ZS)\n",
    "* [Poverty headcount ratio at national poverty lines (SI.POV.NAHC)](https://data.worldbank.org/indicator/SI.POV.NAHC)\n",
    "* [Current health expenditure per capita (SH.XPD.CHEX.PC.CD)](https://data.worldbank.org/indicator/SH.XPD.CHEX.PC.CD)\n",
    "* [GDP per capita (NY.GDP.PCAP.CD)](https://data.worldbank.org/indicator/NY.GDP.PCAP.CD)\n",
    "* [Mortality rate, under-5 (SH.DYN.MORT)](https://data.worldbank.org/indicator/SH.DYN.MORT)\n",
    "\n",
    "\n",
    "Using the [statsmodels](https://www.statsmodels.org/stable/index.html) library write the best linear regression model using child mortality as the dependent variable while the rest are considered as independent variables. Pay particular attention to the fact that the order of the variables put into the model significantly impacts the performance of the model. Choose the best model by considering\n",
    "\n",
    "* with the minimum number of variables and their interactions,\n",
    "* with the optimal ordering of the independent variables and their interactions,\n",
    "* $R^2$-score of the model,\n",
    "* statistical significance of the model coefficients,\n",
    "* ANOVA analysis of the model.\n"
   ]
  },
  {
   "cell_type": "code",
   "execution_count": null,
   "id": "01bfd781-552b-4005-bc26-f3d3a7008e2e",
   "metadata": {},
   "outputs": [],
   "source": [
    "import pandas as pd\n",
    "import matplotlib.pyplot as plt\n",
    "import seaborn as sn\n",
    "import statsmodels.api as sm \n",
    "import wbgapi as wb \n",
    "import numpy as np\n",
    "from statsmodels.formula.api import ols\n",
    "\n",
    "literacy=wb.data.DataFrame('SE.ADT.LITR.FE.ZS','TUR')\n",
    "labor=wb.data.DataFrame('SL.TLF.TOTL.FE.ZS','TUR')\n",
    "poverty=wb.data.DataFrame('SI.POV.NAHC','TUR')\n",
    "health=wb.data.DataFrame('SH.XPD.CHEX.PC.CD','TUR')\n",
    "mortality=wb.data.DataFrame('SH.DYN.MORT','TUR')\n",
    "gdp=wb.data.DataFrame('NY.GDP.PCAP.CD','TUR')\n",
    "\n",
    "\n",
    "ltr=literacy.transpose()\n",
    "lbr=labor.transpose()\n",
    "pvt=poverty.transpose()\n",
    "hth=health.transpose()\n",
    "mtr=mortality.transpose()\n",
    "gd=gdp.transpose()\n",
    "\n",
    "def extract(df,name):\n",
    "    tmp = df[['TUR']]\n",
    "    tmp.columns = [[name]]\n",
    "    return tmp\n",
    "\n",
    "def lit_lab_pov_ht_gdp():\n",
    "    lit = extract(ltr,'literacy')\n",
    "    lr = extract(lbr,'labor')\n",
    "    pt = extract(pvt,'poverty')\n",
    "    hh = extract(hth,'health')\n",
    "    gp = extract(gd,'gdp')\n",
    "    mt = extract(mtr,'mortality')\n",
    "    res = lit.join([lr,pt,hh,gp,mt])\n",
    "    res.dropna(inplace=True)\n",
    "    return res\n",
    "\n",
    "res=lit_lab_pov_ht_gdp()\n",
    "\n",
    "\n",
    "\n",
    "\n",
    "\n",
    "model = ols('mortality ~ literacy*poverty*gdp', data=res).fit()\n",
    "print(sm.stats.anova_lm(model))\n",
    "print(model.summary())\n",
    "\n",
    "#Adj. R squared is 0.984\n",
    "\n",
    "model = ols('mortality ~ literacy+poverty+gdp+literacy*gdp', data=res).fit()\n",
    "print(sm.stats.anova_lm(model))\n",
    "print(model.summary())\n",
    "\n",
    "#Adj. R Squared is 0.985. This model is better.\n",
    "\n"
   ]
  },
  {
   "cell_type": "markdown",
   "id": "1af3d05f-26e8-4e21-8cc8-5df66f63f49e",
   "metadata": {},
   "source": [
    "# Question 2\n",
    "\n",
    "For this question use Yahoo's Finance API for the following tickers:\n",
    "\n",
    "* Gold futures (GC=F)\n",
    "* Silver futures (SI=F)\n",
    "* Copper futures (HG=F)\n",
    "* Platinum futures (PL=F)\n",
    "\n",
    "1. Write the best linear regression model that explains gold futures closing prices in terms of opening prices of gold, silver, copper, and platinum futures.\n",
    "2. Repeat the same for silver, copper and platinum prices.\n",
    "3. Compare the models you obtained in Steps 1 and 2. Which model is better? How do you decide? Explain."
   ]
  },
  {
   "cell_type": "code",
   "execution_count": null,
   "id": "a3e5876d-f2b7-4a10-957b-a1c7d0fec178",
   "metadata": {},
   "outputs": [],
   "source": [
    "import yfinance as yf\n",
    "import pandas as pd\n",
    "import wbgapi as wb\n",
    "import numpy as np\n",
    "import statsmodels.api as sm\n",
    "\n",
    "import matplotlib.pyplot as plt\n",
    "from statsmodels.formula.api import ols\n",
    "from sklearn.linear_model import LinearRegression, Ridge, Lasso, ElasticNet\n",
    "gold=yf.download('GC=F')\n",
    "silver=yf.download('SI=F')\n",
    "copper=yf.download('HG=F')\n",
    "plat=yf.download('PL=F')\n",
    "\n",
    "data=pd.DataFrame()\n",
    "\n",
    "data['gold']=gold['Open']\n",
    "data['silver']=silver['Open']\n",
    "data['copper']=copper['Open']\n",
    "data['plat']=plat['Open']\n",
    "data['gold_close']=gold['Close']\n",
    "data['silver_close']=silver['Close']\n",
    "data['copper_close']=copper['Close']\n",
    "data['plat_close']=plat['Close']\n",
    "\n",
    "model = ols('gold_close ~ gold+silver+copper+plat', data=data).fit()\n",
    "print(model.summary())\n",
    "\n",
    "model = ols('silver_close ~ gold+silver+copper+plat', data=data).fit()\n",
    "print(model.summary())\n",
    "\n",
    "model = ols('copper_close ~ gold+silver+copper+plat', data=data).fit()\n",
    "print(model.summary())\n",
    "\n",
    "model = ols('plat_close ~ gold+silver+copper+plat', data=data).fit()\n",
    "print(model.summary())\n",
    "\n",
    "#First model is better because R squared is 1.00 others 0.999"
   ]
  },
  {
   "cell_type": "markdown",
   "id": "e6784ded-5ebb-492d-a244-62c7d42ec457",
   "metadata": {},
   "source": [
    "# Question 3\n",
    "\n",
    "1. Write a function that takes a ticker symbol and returns a pandas dataframe that for each day puts a 1 when the closing price is higher than the opening price, a 0 when the closing price is lower than the opening price.\n",
    "2. Write the best logistic regression that predicts the time series you obtain from Step 1 for gold futures against the opening prices of gold, silver, copper, and platinum prices.\n",
    "3. Repeat the same for silver, copper, and platinum prices.\n",
    "4. Compare the models you obtained from Steps 2 and 3. Decide which is the best model, and explain your reasoning.\n",
    "5. Does any of the models provide a good fit? Explain."
   ]
  },
  {
   "cell_type": "code",
   "execution_count": null,
   "id": "e67d2161-b332-47d0-8f16-b829520d55bd",
   "metadata": {},
   "outputs": [],
   "source": []
  },
  {
   "cell_type": "markdown",
   "id": "17365a32-866c-40d2-8ac9-5d0dcfaba69b",
   "metadata": {},
   "source": [
    "# Question 4\n",
    "\n",
    "For this question use the following [data](https://archive.ics.uci.edu/ml/datasets/credit+approval):\n"
   ]
  },
  {
   "cell_type": "code",
   "execution_count": 3,
   "id": "365d759b-b783-4539-96d0-8b6db6979c44",
   "metadata": {},
   "outputs": [],
   "source": [
    "credit = pd.read_csv('https://archive.ics.uci.edu/ml/machine-learning-databases/credit-screening/crx.data', header=None)\n",
    "\n",
    "fn = {'+': 1, '-': 0}\n",
    "\n",
    "X = credit.replace('?',0).iloc[:,[1,2,7,10,14]]\n",
    "y = credit.iloc[:,15].map(lambda x: fn.get(x,0))"
   ]
  },
  {
   "cell_type": "markdown",
   "id": "e7ebfd20-ff04-43dc-b00d-508a110ff3b3",
   "metadata": {},
   "source": [
    "1. Split the data into training and test set.\n",
    "2. Write different logistic regression models predicting y against X.\n",
    "3. Construct [confusion matrices](https://scikit-learn.org/stable/modules/generated/sklearn.metrics.confusion_matrix.html) on the test data set for these different models.\n",
    "4. Analyze these models. Explain which model is the best model you have found.\n",
    "5. Repeat Steps 1-4 several times. Does your best model stay as the best model? What should be the correct protocol to decide on the best model explaining the data?"
   ]
  },
  {
   "cell_type": "code",
   "execution_count": null,
   "id": "e2f37cde-dcc2-48f1-ae91-3a615b63e0fb",
   "metadata": {},
   "outputs": [],
   "source": []
  }
 ],
 "metadata": {
  "kernelspec": {
   "display_name": "Python 3.10.7 64-bit",
   "language": "python",
   "name": "python3"
  },
  "language_info": {
   "codemirror_mode": {
    "name": "ipython",
    "version": 3
   },
   "file_extension": ".py",
   "mimetype": "text/x-python",
   "name": "python",
   "nbconvert_exporter": "python",
   "pygments_lexer": "ipython3",
   "version": "3.10.7"
  },
  "vscode": {
   "interpreter": {
    "hash": "ade2a71426cf688071da39c024d0e7b684c178f0539a65739e48cb1bc0ce10b5"
   }
  }
 },
 "nbformat": 4,
 "nbformat_minor": 5
}
